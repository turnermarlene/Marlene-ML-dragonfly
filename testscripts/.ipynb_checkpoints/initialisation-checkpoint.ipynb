{
 "cells": [
  {
   "cell_type": "code",
   "execution_count": null,
   "metadata": {},
   "outputs": [],
   "source": [
    "import socket\n",
    "import struct\n",
    "import numpy as np\n",
    "import matplotlib.pyplot as plt\n",
    "import time\n",
    "\n",
    "#Number of images to average \n",
    "N = 5\n",
    "\n",
    "#initial hexapod starting location\n",
    "movehexinx_initial = b\"setxpos>>-4.8\"\n",
    "movehexiny_initial = b\"setypos>>-2.5000\"\n",
    "movehexinz_initial = b\"setzpos>>2.000\"\n",
    "movehexapodtooutpos = b\"setypos>>20.000\"\n",
    "\n",
    "#ypos= 20 out , ypos = -2.5 in"
   ]
  },
  {
   "cell_type": "code",
   "execution_count": null,
   "metadata": {},
   "outputs": [],
   "source": [
    "#initialisation - get beam centroid  without cap\n",
    "udp_client = socket.socket(socket.AF_INET, socket.SOCK_DGRAM)\n",
    "hexapod_address = ('192.168.15.16', 65529)\n",
    "udp_client.sendto(movehexapodtooutpos, hexapod_address)\n",
    "time.sleep(30)\n",
    "\n",
    "centroid_post = np.zeros([N,2])\n",
    "#get data from probecampost\n",
    "client = socket.socket(socket.AF_INET, socket.SOCK_STREAM)\n",
    "server_address_probecampost = ('192.168.15.24', 65280)\n",
    "client.connect(server_address_probecampost)\n",
    "\n",
    "subcriptionstring3 = b'Wait>>MaxCounts,Centroidx,Centroidy'\n",
    "SubcriptionCmdLength3 = len(subcriptionstring3)\n",
    "sizepack3 = struct.pack('>i', SubcriptionCmdLength3)\n",
    "client.sendall(sizepack3 + subcriptionstring3)\n",
    "\n",
    "for x in range(N):\n",
    "    size = struct.unpack('>i', client.recv(4))[0]  # Extract the msg size from four bytes - mind the encoding\n",
    "    str_data = client.recv(size)\n",
    "    #print('Data size: %s Data value: %s' % (size, str_data.decode('ascii')))\n",
    "    centroid_post[x,0] = float(str_data.decode('ascii')[68:75])\n",
    "    centroid_post[x,1] = float(str_data.decode('ascii')[101:108])\n",
    "client.close()\n",
    "\n",
    "ref_centroid_post_x = np.mean(centroid_post[:,0])\n",
    "ref_centroid_post_y = np.mean(centroid_post[:,1])\n",
    "\n",
    "centroid_postnear = np.zeros([N,2])\n",
    "client = socket.socket(socket.AF_INET, socket.SOCK_STREAM)\n",
    "server_address_probecampostnear = ('192.168.15.25', 65264)\n",
    "client.connect(server_address_probecampostnear)\n",
    "\n",
    "subcriptionstring4 = b'Wait>>MaxCounts,Centroidx,Centroidy'\n",
    "SubcriptionCmdLength4 = len(subcriptionstring4)\n",
    "sizepack4 = struct.pack('>i', SubcriptionCmdLength4)\n",
    "client.sendall(sizepack4 + subcriptionstring4)\n",
    "\n",
    "for x in range(5):\n",
    "    size = struct.unpack('>i', client.recv(4))[0]  # Extract the msg size from four bytes - mind the encoding\n",
    "    str_data = client.recv(size)\n",
    "    #print('Data size: %s Data value: %s' % (size, str_data.decode('ascii')))\n",
    "    centroid_postnear[x,0] = float(str_data.decode('ascii')[72:79])\n",
    "    centroid_postnear[x,1] = float(str_data.decode('ascii')[105:112])\n",
    "client.close()\n",
    "\n",
    "ref_centroid_postnear_x = np.mean(centroid_postnear[:,0])\n",
    "ref_centroid_postnear_y = np.mean(centroid_postnear[:,1])"
   ]
  }
 ],
 "metadata": {
  "kernelspec": {
   "display_name": "Python 3",
   "language": "python",
   "name": "python3"
  },
  "language_info": {
   "codemirror_mode": {
    "name": "ipython",
    "version": 3
   },
   "file_extension": ".py",
   "mimetype": "text/x-python",
   "name": "python",
   "nbconvert_exporter": "python",
   "pygments_lexer": "ipython3",
   "version": "3.7.3"
  }
 },
 "nbformat": 4,
 "nbformat_minor": 4
}
