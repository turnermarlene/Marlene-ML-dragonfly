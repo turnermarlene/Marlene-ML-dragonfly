{
 "cells": [
  {
   "cell_type": "code",
   "execution_count": 7,
   "metadata": {},
   "outputs": [],
   "source": [
    "import socket\n",
    "import struct\n",
    "import numpy as np\n",
    "import matplotlib.pyplot as plt\n",
    "\n",
    "client = socket.socket(socket.AF_INET, socket.SOCK_STREAM)\n",
    "udp_client = socket.socket(socket.AF_INET, socket.SOCK_DGRAM)\n"
   ]
  },
  {
   "cell_type": "code",
   "execution_count": 4,
   "metadata": {},
   "outputs": [
    {
     "name": "stdout",
     "output_type": "stream",
     "text": [
      "Data size: 94 Data value: P2-hexapod>>0>>xpos nval,0.000000 nvar,\r\n",
      "ypos nval,-2.500000 nvar,\r\n",
      "zpos nval,2.000000 nvar,\r\n",
      "\n"
     ]
    }
   ],
   "source": [
    "server_address = ('192.168.15.16', 65529)\n",
    "client.connect(server_address)\n",
    "\n",
    "subcriptionstring = b'Wait>>xpos,ypos,zpos'\n",
    "SubcriptionCmdLength = len(subcriptionstring)\n",
    "sizepack = struct.pack('>i', SubcriptionCmdLength)\n",
    "client.sendall( sizepack + subcriptionstring)\n",
    "\n",
    "for x in range(1):\n",
    "    size = struct.unpack('>i', client.recv(4))[0]  # Extract the msg size from four bytes - mind the encoding\n",
    "    str_data = client.recv(size)\n",
    "    print('Data size: %s Data value: %s' % (size, str_data.decode('ascii')))\n",
    "    \n",
    "client.close()"
   ]
  },
  {
   "cell_type": "code",
   "execution_count": null,
   "metadata": {},
   "outputs": [],
   "source": [
    "command = b\"setxpos>>0.000\"\n",
    "udp_client.sendto(command, server_address)"
   ]
  },
  {
   "cell_type": "code",
   "execution_count": 12,
   "metadata": {},
   "outputs": [
    {
     "name": "stdout",
     "output_type": "stream",
     "text": [
      "Data size: 120 Data value: P2-ProbeCamPost>>0>>MaxCounts nval,1328.000000 nvar,\n",
      "Centroidx nval,600.821777 nvar,\n",
      "Centroidy nval,578.645935 nvar,\n",
      "\n",
      "Data size: 120 Data value: P2-ProbeCamPost>>0>>MaxCounts nval,1351.000000 nvar,\n",
      "Centroidx nval,600.556213 nvar,\n",
      "Centroidy nval,577.773193 nvar,\n",
      "\n",
      "Data size: 120 Data value: P2-ProbeCamPost>>0>>MaxCounts nval,1360.000000 nvar,\n",
      "Centroidx nval,600.639526 nvar,\n",
      "Centroidy nval,577.175293 nvar,\n",
      "\n",
      "Data size: 120 Data value: P2-ProbeCamPost>>0>>MaxCounts nval,1314.000000 nvar,\n",
      "Centroidx nval,600.077209 nvar,\n",
      "Centroidy nval,578.083618 nvar,\n",
      "\n",
      "Data size: 120 Data value: P2-ProbeCamPost>>0>>MaxCounts nval,1315.000000 nvar,\n",
      "Centroidx nval,600.939087 nvar,\n",
      "Centroidy nval,578.051636 nvar,\n",
      "\n"
     ]
    }
   ],
   "source": [
    "#get camera properties\n",
    "client = socket.socket(socket.AF_INET, socket.SOCK_STREAM)\n",
    "server_address_probecampost = ('192.168.15.24', 65280)\n",
    "client.connect(server_address_probecampost)\n",
    "\n",
    "subcriptionstring3 = b'Wait>>MaxCounts,Centroidx,Centroidy'\n",
    "SubcriptionCmdLength3 = len(subcriptionstring3)\n",
    "sizepack3 = struct.pack('>i', SubcriptionCmdLength3)\n",
    "client.sendall(sizepack3 + subcriptionstring3)\n",
    "\n",
    "for x in range(5):\n",
    "    size = struct.unpack('>i', client.recv(4))[0]  # Extract the msg size from four bytes - mind the encoding\n",
    "    str_data = client.recv(size)\n",
    "    print('Data size: %s Data value: %s' % (size, str_data.decode('ascii')))\n",
    "    \n",
    "client.close()"
   ]
  },
  {
   "cell_type": "code",
   "execution_count": 17,
   "metadata": {},
   "outputs": [
    {
     "name": "stdout",
     "output_type": "stream",
     "text": [
      "Data size: 121 Data value: P2-ProbeCamPostNear>>0>>MaxCounts nval,62.000000 nvar,\n",
      "Centroidx nval,156.851013 nvar,\n",
      "Centroidy nval,90.131310 nvar,\n",
      "\n",
      "Data size: 121 Data value: P2-ProbeCamPostNear>>0>>MaxCounts nval,45.000000 nvar,\n",
      "Centroidx nval,161.086472 nvar,\n",
      "Centroidy nval,91.360565 nvar,\n",
      "\n",
      "Data size: 121 Data value: P2-ProbeCamPostNear>>0>>MaxCounts nval,60.000000 nvar,\n",
      "Centroidx nval,147.502457 nvar,\n",
      "Centroidy nval,93.306374 nvar,\n",
      "\n",
      "Data size: 121 Data value: P2-ProbeCamPostNear>>0>>MaxCounts nval,58.000000 nvar,\n",
      "Centroidx nval,157.836426 nvar,\n",
      "Centroidy nval,95.945190 nvar,\n",
      "\n",
      "Data size: 121 Data value: P2-ProbeCamPostNear>>0>>MaxCounts nval,62.000000 nvar,\n",
      "Centroidx nval,154.807602 nvar,\n",
      "Centroidy nval,95.525726 nvar,\n",
      "\n"
     ]
    }
   ],
   "source": [
    "client = socket.socket(socket.AF_INET, socket.SOCK_STREAM)\n",
    "server_address_probecampostnear = ('192.168.15.25', 65264)\n",
    "client.connect(server_address_probecampostnear)\n",
    "\n",
    "subcriptionstring4 = b'Wait>>MaxCounts,Centroidx,Centroidy'\n",
    "SubcriptionCmdLength4 = len(subcriptionstring4)\n",
    "sizepack4 = struct.pack('>i', SubcriptionCmdLength4)\n",
    "client.sendall(sizepack4 + subcriptionstring4)\n",
    "\n",
    "for x in range(5):\n",
    "    size = struct.unpack('>i', client.recv(4))[0]  # Extract the msg size from four bytes - mind the encoding\n",
    "    str_data = client.recv(size)\n",
    "    print('Data size: %s Data value: %s' % (size, str_data.decode('ascii')))\n",
    "client.close()"
   ]
  },
  {
   "cell_type": "code",
   "execution_count": null,
   "metadata": {},
   "outputs": [],
   "source": [
    "from dragonfly import minimise_function\n",
    "\n",
    "func = lambda x: x**4 - x**2 + 10*x\n",
    "domain = [[-10,10]]\n",
    "max_capital = 100\n",
    "min_val, min_pt, history = minimise_function(func, domain, max_capital)"
   ]
  },
  {
   "cell_type": "code",
   "execution_count": null,
   "metadata": {},
   "outputs": [],
   "source": []
  },
  {
   "cell_type": "code",
   "execution_count": null,
   "metadata": {},
   "outputs": [],
   "source": []
  }
 ],
 "metadata": {
  "kernelspec": {
   "display_name": "Python 3",
   "language": "python",
   "name": "python3"
  },
  "language_info": {
   "codemirror_mode": {
    "name": "ipython",
    "version": 3
   },
   "file_extension": ".py",
   "mimetype": "text/x-python",
   "name": "python",
   "nbconvert_exporter": "python",
   "pygments_lexer": "ipython3",
   "version": "3.7.3"
  }
 },
 "nbformat": 4,
 "nbformat_minor": 4
}
