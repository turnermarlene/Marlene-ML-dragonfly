{
 "cells": [
  {
   "cell_type": "code",
   "execution_count": null,
   "metadata": {},
   "outputs": [],
   "source": [
    "from dragonfly.exd import domains\n",
    "from dragonfly.exd.experiment_caller import CPFunctionCaller, EuclideanFunctionCaller\n",
    "from dragonfly.opt import random_optimiser, cp_ga_optimiser, gp_bandit\n",
    "\n",
    "max_capital = 10\n",
    "objective = lambda x: x[0] ** 4 - x[0]**2 + 0.1 * x[0]\n",
    "domain = domains.EuclideanDomain([[-10, 10]])\n",
    "func_caller = EuclideanFunctionCaller(None, domain)\n",
    "opt = gp_bandit.EuclideanGPBandit(func_caller, ask_tell_mode=True)\n",
    "opt.initialise()\n",
    "\n"
   ]
  },
  {
   "cell_type": "code",
   "execution_count": null,
   "metadata": {},
   "outputs": [],
   "source": [
    "for i in range(max_capital):\n",
    "    x = opt.ask()\n",
    "    y = objective(x)\n",
    "    print(\"x:\", x, \", y:\", y)\n",
    "    opt.tell([(x, y)])\n"
   ]
  },
  {
   "cell_type": "code",
   "execution_count": null,
   "metadata": {},
   "outputs": [],
   "source": [
    "import time\n",
    "timestr = time.strftime(\"%Y%m%d-%H%M%S\")\n",
    "print(timestr)"
   ]
  },
  {
   "cell_type": "code",
   "execution_count": null,
   "metadata": {},
   "outputs": [],
   "source": [
    "import numpy as np\n",
    "savefile = timestr+'.txt'\n",
    "file =  open(savefile, 'a')\n",
    "file.write(str(1)+\"\\n\")\n",
    "np.savetxt(file, [2])\n",
    "file.close()"
   ]
  },
  {
   "cell_type": "code",
   "execution_count": 5,
   "metadata": {},
   "outputs": [
    {
     "name": "stdout",
     "output_type": "stream",
     "text": [
      "-2.053772\n",
      "0\n"
     ]
    }
   ],
   "source": [
    "import numpy as np\n",
    "meas_array = np.loadtxt('20210113-085415.txt')\n",
    "\n",
    "print(np.min(meas_array[4]))\n",
    "print(np.argmin(meas_array[4]))"
   ]
  },
  {
   "cell_type": "code",
   "execution_count": 10,
   "metadata": {},
   "outputs": [
    {
     "data": {
      "text/plain": [
       "array([347.37563474])"
      ]
     },
     "execution_count": 10,
     "metadata": {},
     "output_type": "execute_result"
    }
   ],
   "source": [
    "np.random.rand(1)*1000"
   ]
  },
  {
   "cell_type": "code",
   "execution_count": null,
   "metadata": {},
   "outputs": [],
   "source": []
  }
 ],
 "metadata": {
  "kernelspec": {
   "display_name": "Python 3",
   "language": "python",
   "name": "python3"
  },
  "language_info": {
   "codemirror_mode": {
    "name": "ipython",
    "version": 3
   },
   "file_extension": ".py",
   "mimetype": "text/x-python",
   "name": "python",
   "nbconvert_exporter": "python",
   "pygments_lexer": "ipython3",
   "version": "3.7.3"
  }
 },
 "nbformat": 4,
 "nbformat_minor": 4
}
