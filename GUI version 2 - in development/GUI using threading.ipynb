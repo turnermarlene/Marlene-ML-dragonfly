{
 "cells": [
  {
   "cell_type": "code",
   "execution_count": 1,
   "metadata": {},
   "outputs": [
    {
     "name": "stderr",
     "output_type": "stream",
     "text": [
      "C:\\Users\\loasis\\AppData\\Local\\Programs\\Python\\Python37-32\\lib\\site-packages\\dragonfly\\utils\\oper_utils.py:30: UserWarning: cannot import name 'direct' from 'dragonfly.utils.direct_fortran' (C:\\Users\\loasis\\AppData\\Local\\Programs\\Python\\Python37-32\\lib\\site-packages\\dragonfly\\utils\\direct_fortran\\__init__.py)\n",
      "Could not import Fortran direct library. Dragonfly can still be used, but might be slightly slower. To get rid of this warning, install a numpy compatible Fortran compiler (e.g. gfortran) and the python-dev package and reinstall Dragonfly.\n",
      "  warn('%s\\n%s'%(e, fortran_err_msg))\n"
     ]
    }
   ],
   "source": [
    "import tkinter as tk\n",
    "from dragonfly import maximise_function, minimise_function\n",
    "import socket\n",
    "import struct\n",
    "import numpy as np\n",
    "import time\n",
    "import re\n",
    "import threading\n",
    "import matplotlib.pyplot as plt\n",
    "from matplotlib.backends.backend_tkagg import (FigureCanvasTkAgg, NavigationToolbar2Tk)\n",
    "\n",
    "#import classes from other files\n",
    "import sys\n",
    "sys.path.append(\"functions\")\n",
    "from functions_rest import GUI\n",
    "#from functions_opt import OPT\n",
    "from functions_hexapod import *\n",
    "from functions_cam import *\n",
    "\n",
    "udp_client = socket.socket(socket.AF_INET, socket.SOCK_DGRAM)\n",
    "client = socket.socket(socket.AF_INET, socket.SOCK_STREAM)"
   ]
  },
  {
   "cell_type": "code",
   "execution_count": null,
   "metadata": {},
   "outputs": [
    {
     "name": "stdout",
     "output_type": "stream",
     "text": [
      "b'setypos>>-1.57'\n",
      "b'setzpos>>-2.0'\n",
      "b'setwangle>>-1.74'\n",
      "b'setvangle>>-1.747'\n",
      "[466. 466. 466. 466.]\n",
      "[[-1.57  -2.077 -1.697 -1.834]\n",
      " [-1.57  -2.    -1.697 -1.834]\n",
      " [-1.57  -2.    -1.74  -1.834]\n",
      " [-1.57  -2.    -1.74  -1.747]]\n",
      "b'setypos>>-1.831'\n",
      "b'setzpos>>-2.178'\n",
      "b'setwangle>>-1.81'\n",
      "b'setvangle>>-1.906'\n",
      "[466.  466.2 466.  466. ]\n",
      "[[-1.831 -2.    -1.74  -1.747]\n",
      " [-1.831 -2.178 -1.74  -1.747]\n",
      " [-1.831 -2.178 -1.81  -1.747]\n",
      " [-1.831 -2.178 -1.81  -1.906]]\n",
      "b'setypos>>-1.789'\n",
      "b'setzpos>>-2.066'\n",
      "b'setwangle>>-1.679'\n",
      "b'setvangle>>-1.81'\n",
      "[466. 466. 466. 466.]\n",
      "[[-1.789 -2.178 -1.81  -1.906]\n",
      " [-1.789 -2.066 -1.81  -1.906]\n",
      " [-1.789 -2.066 -1.679 -1.906]\n",
      " [-1.789 -2.066 -1.679 -1.81 ]]\n",
      "b'setypos>>-1.656'\n",
      "b'setzpos>>-1.881'\n",
      "b'setwangle>>-1.623'\n",
      "b'setvangle>>-1.944'\n",
      "[466. 466. 466. 466.]\n",
      "[[-1.656 -2.066 -1.679 -1.81 ]\n",
      " [-1.656 -1.881 -1.679 -1.81 ]\n",
      " [-1.656 -1.881 -1.623 -1.81 ]\n",
      " [-1.656 -1.881 -1.623 -1.944]]\n",
      "b'setypos>>-1.677'\n",
      "b'setzpos>>-2.252'\n",
      "b'setwangle>>-1.579'\n",
      "b'setvangle>>-1.693'\n",
      "[466. 466. 466. 466.]\n",
      "[[-1.677 -1.881 -1.623 -1.944]\n",
      " [-1.677 -2.252 -1.623 -1.944]\n",
      " [-1.677 -2.252 -1.579 -1.944]\n",
      " [-1.677 -2.252 -1.579 -1.693]]\n",
      "b'setypos>>-1.807'\n"
     ]
    }
   ],
   "source": [
    "root = tk.Tk()\n",
    "my_gui = GUI(root)\n",
    "root.mainloop()"
   ]
  },
  {
   "cell_type": "code",
   "execution_count": null,
   "metadata": {
    "scrolled": true
   },
   "outputs": [],
   "source": [
    "\n"
   ]
  },
  {
   "cell_type": "code",
   "execution_count": null,
   "metadata": {},
   "outputs": [],
   "source": []
  },
  {
   "cell_type": "code",
   "execution_count": null,
   "metadata": {},
   "outputs": [],
   "source": []
  },
  {
   "cell_type": "code",
   "execution_count": null,
   "metadata": {},
   "outputs": [],
   "source": []
  }
 ],
 "metadata": {
  "kernelspec": {
   "display_name": "Python 3",
   "language": "python",
   "name": "python3"
  },
  "language_info": {
   "codemirror_mode": {
    "name": "ipython",
    "version": 3
   },
   "file_extension": ".py",
   "mimetype": "text/x-python",
   "name": "python",
   "nbconvert_exporter": "python",
   "pygments_lexer": "ipython3",
   "version": "3.7.3"
  }
 },
 "nbformat": 4,
 "nbformat_minor": 4
}
