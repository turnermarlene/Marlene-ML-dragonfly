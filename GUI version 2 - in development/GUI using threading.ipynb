{
 "cells": [
  {
   "cell_type": "code",
   "execution_count": 1,
   "metadata": {},
   "outputs": [
    {
     "name": "stderr",
     "output_type": "stream",
     "text": [
      "C:\\Users\\loasis\\AppData\\Local\\Programs\\Python\\Python37-32\\lib\\site-packages\\dragonfly\\utils\\oper_utils.py:30: UserWarning: cannot import name 'direct' from 'dragonfly.utils.direct_fortran' (C:\\Users\\loasis\\AppData\\Local\\Programs\\Python\\Python37-32\\lib\\site-packages\\dragonfly\\utils\\direct_fortran\\__init__.py)\n",
      "Could not import Fortran direct library. Dragonfly can still be used, but might be slightly slower. To get rid of this warning, install a numpy compatible Fortran compiler (e.g. gfortran) and the python-dev package and reinstall Dragonfly.\n",
      "  warn('%s\\n%s'%(e, fortran_err_msg))\n"
     ]
    }
   ],
   "source": [
    "import tkinter as tk\n",
    "from dragonfly import maximise_function, minimise_function\n",
    "import socket\n",
    "import struct\n",
    "import numpy as np\n",
    "import time\n",
    "import re\n",
    "import threading\n",
    "import matplotlib.pyplot as plt\n",
    "from matplotlib.backends.backend_tkagg import (FigureCanvasTkAgg, NavigationToolbar2Tk)\n",
    "\n",
    "#import classes from other files\n",
    "import sys\n",
    "sys.path.append(\"functions\")\n",
    "from functions_rest import GUI\n",
    "#from functions_opt import OPT\n",
    "from functions_hexapod import *\n",
    "from functions_cam import *\n",
    "\n",
    "udp_client = socket.socket(socket.AF_INET, socket.SOCK_DGRAM)\n",
    "client = socket.socket(socket.AF_INET, socket.SOCK_STREAM)"
   ]
  },
  {
   "cell_type": "code",
   "execution_count": null,
   "metadata": {},
   "outputs": [
    {
     "name": "stdout",
     "output_type": "stream",
     "text": [
      "[  65.5 1920.  1920.  1920. ]\n",
      "[1924. 1932. 1932. 1924.]\n",
      "[1928.   909.7  373.6  726.2]\n",
      "[1920.   730.8 1920.  1920. ]\n",
      "[1920.  1920.  1823.3  987.5]\n",
      "[805.5 858.1 107.  214.5]\n"
     ]
    },
    {
     "name": "stderr",
     "output_type": "stream",
     "text": [
      "C:\\Users\\loasis\\AppData\\Local\\Programs\\Python\\Python37-32\\lib\\site-packages\\dragonfly\\utils\\oper_utils.py:132: UserWarning: Attempted to use direct, but fortran library could not be imported. Using PDOO optimiser instead of direct.\n",
      "  warn(report_str)\n"
     ]
    },
    {
     "name": "stdout",
     "output_type": "stream",
     "text": [
      "[ 196. 1904. 1920. 1904.]\n",
      "[ 490.3 1017.1  171.5   40.7]\n",
      "[37.9 37.2 43.1 45.4]\n",
      "[168.9 171.1 172.  608.7]\n",
      "[342.1 343.8 351.2  39.2]\n",
      "[ 66.7 157.8 153.  119.9]\n",
      "[109.4  57.2  39.7  40.9]\n",
      "[73.  74.2 42.9 40.3]\n",
      "[ 38.5  39.4 261.3 314.9]\n",
      "[188.9 232.6  85.2 110.9]\n",
      "[  93.7   51.4 1904.  1900. ]\n",
      "[1904.  1920.    48.9   50.3]\n",
      "[  53.5  104.9  276.7 1137.8]\n",
      "[878.1 802.  792.1  39.7]\n",
      "[346.7 574.9 295.8 734.6]\n",
      "[1155.7 1062.6  342.3   39.3]\n",
      "[38.  40.9 26.8 25.3]\n",
      "[ 97.8  92.2 666.8 729.1]\n",
      "[204.5 150.8  48.4  89.1]\n",
      "[163.6 216.8 245.1 243.4]\n",
      "[229.  156.4 140.2 110.9]\n",
      "[ 63.5  40.7 122.2 125.6]\n",
      "[118.8 451.2 207.5  31.8]\n",
      "[18.1 34.9 40.7  6.9]\n",
      "[  12.7   95.9 1900.  1023.5]\n",
      "[1900.  1164.7  421.7  191.9]\n",
      "[125.6 130.4 962.6 972.1]\n",
      "[272.9 258.   36.5  36.4]\n",
      "[38.9 58.2 48.9 72.7]\n",
      "[82.  87.6 84.9  8. ]\n",
      "[ 8.9 25.4 22.5  7.3]\n",
      "[ 120.8  140.4  715.1 1073.2]\n",
      "[934.9 574.1  90.6  48.2]\n",
      "[33.4 32.9 31.6 16.5]\n",
      "[19.2 14.2 12.5  4.4]\n",
      "[12.3 20.9 19.1 15.7]\n",
      "[16.7 28.5 43.9 36.1]\n",
      "[536.8 790.  785.3 927. ]\n",
      "[495.6  90.2 555.4 504.4]\n",
      "[282.4 285.   10.7   9.7]\n",
      "[ 171.6  468.8  657.7 1082.9]\n",
      "[1924.   278.1  242.2  236.6]\n",
      "[195.1 194.9 242.3 236.6]\n",
      "[245.2 171.5 169.4 108.4]\n",
      "We are done here:\n",
      "-4.4\n",
      "[-2.26, 2.203, -0.639, -0.268]\n"
     ]
    }
   ],
   "source": [
    "root = tk.Tk()\n",
    "my_gui = GUI(root)\n",
    "root.mainloop()"
   ]
  },
  {
   "cell_type": "code",
   "execution_count": null,
   "metadata": {
    "scrolled": true
   },
   "outputs": [],
   "source": []
  },
  {
   "cell_type": "code",
   "execution_count": null,
   "metadata": {},
   "outputs": [],
   "source": []
  },
  {
   "cell_type": "code",
   "execution_count": null,
   "metadata": {},
   "outputs": [],
   "source": []
  },
  {
   "cell_type": "code",
   "execution_count": null,
   "metadata": {},
   "outputs": [],
   "source": []
  }
 ],
 "metadata": {
  "kernelspec": {
   "display_name": "Python 3",
   "language": "python",
   "name": "python3"
  },
  "language_info": {
   "codemirror_mode": {
    "name": "ipython",
    "version": 3
   },
   "file_extension": ".py",
   "mimetype": "text/x-python",
   "name": "python",
   "nbconvert_exporter": "python",
   "pygments_lexer": "ipython3",
   "version": "3.7.3"
  }
 },
 "nbformat": 4,
 "nbformat_minor": 4
}
