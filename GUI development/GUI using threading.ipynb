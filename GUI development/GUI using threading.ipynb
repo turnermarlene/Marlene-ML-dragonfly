{
 "cells": [
  {
   "cell_type": "code",
   "execution_count": 1,
   "metadata": {},
   "outputs": [
    {
     "name": "stderr",
     "output_type": "stream",
     "text": [
      "C:\\Users\\loasis\\AppData\\Local\\Programs\\Python\\Python37-32\\lib\\site-packages\\dragonfly\\utils\\oper_utils.py:30: UserWarning: cannot import name 'direct' from 'dragonfly.utils.direct_fortran' (C:\\Users\\loasis\\AppData\\Local\\Programs\\Python\\Python37-32\\lib\\site-packages\\dragonfly\\utils\\direct_fortran\\__init__.py)\n",
      "Could not import Fortran direct library. Dragonfly can still be used, but might be slightly slower. To get rid of this warning, install a numpy compatible Fortran compiler (e.g. gfortran) and the python-dev package and reinstall Dragonfly.\n",
      "  warn('%s\\n%s'%(e, fortran_err_msg))\n"
     ]
    }
   ],
   "source": [
    "import tkinter as tk\n",
    "from dragonfly import maximise_function, minimise_function\n",
    "import socket\n",
    "import struct\n",
    "import numpy as np\n",
    "import time\n",
    "import re\n",
    "import threading\n",
    "import matplotlib.pyplot as plt\n",
    "from matplotlib.backends.backend_tkagg import (FigureCanvasTkAgg, NavigationToolbar2Tk)\n",
    "\n",
    "#import classes from other files\n",
    "import sys\n",
    "sys.path.append(\"functions\")\n",
    "from functions_rest import GUI\n",
    "#from functions_opt import OPT\n",
    "from functions_hexapod import *\n",
    "from functions_cam import *\n",
    "\n",
    "udp_client = socket.socket(socket.AF_INET, socket.SOCK_DGRAM)\n",
    "client = socket.socket(socket.AF_INET, socket.SOCK_STREAM)"
   ]
  },
  {
   "cell_type": "code",
   "execution_count": null,
   "metadata": {},
   "outputs": [],
   "source": [
    "root = tk.Tk()\n",
    "my_gui = GUI(root)\n",
    "root.mainloop()"
   ]
  },
  {
   "cell_type": "code",
   "execution_count": null,
   "metadata": {
    "scrolled": true
   },
   "outputs": [],
   "source": [
    "\n"
   ]
  },
  {
   "cell_type": "code",
   "execution_count": null,
   "metadata": {},
   "outputs": [],
   "source": []
  },
  {
   "cell_type": "code",
   "execution_count": null,
   "metadata": {},
   "outputs": [],
   "source": []
  },
  {
   "cell_type": "code",
   "execution_count": null,
   "metadata": {},
   "outputs": [],
   "source": []
  }
 ],
 "metadata": {
  "kernelspec": {
   "display_name": "Python 3",
   "language": "python",
   "name": "python3"
  },
  "language_info": {
   "codemirror_mode": {
    "name": "ipython",
    "version": 3
   },
   "file_extension": ".py",
   "mimetype": "text/x-python",
   "name": "python",
   "nbconvert_exporter": "python",
   "pygments_lexer": "ipython3",
   "version": "3.7.3"
  }
 },
 "nbformat": 4,
 "nbformat_minor": 4
}
