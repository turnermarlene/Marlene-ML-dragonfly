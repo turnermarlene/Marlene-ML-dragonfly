{
 "cells": [
  {
   "cell_type": "code",
   "execution_count": 13,
   "metadata": {},
   "outputs": [],
   "source": [
    "import tkinter as tk\n",
    "from dragonfly import maximise_function, minimise_function\n",
    "import socket\n",
    "import struct\n",
    "import numpy as np\n",
    "import matplotlib.pyplot as plt\n",
    "import time\n",
    "import re\n",
    "\n",
    "N = 3\n",
    "\n",
    "server_address_probecampost = ('192.168.15.24', 65280)\n",
    "server_address_probecampostnear = ('192.168.15.25', 65264)\n",
    "hexapod_address = ('192.168.15.16', 65529)\n",
    "\n",
    "subcriptionstring = b'Wait>>MeanCounts'\n",
    "SubcriptionCmdLength = len(subcriptionstring)\n",
    "sizepack = struct.pack('>i', SubcriptionCmdLength)\n",
    "\n",
    "subcriptionstring2 = b'Wait>>Centroidx,Centroidy'\n",
    "SubcriptionCmdLength2 = len(subcriptionstring2)\n",
    "sizepack2 = struct.pack('>i', SubcriptionCmdLength2)"
   ]
  },
  {
   "cell_type": "code",
   "execution_count": 14,
   "metadata": {},
   "outputs": [],
   "source": [
    "def get_centroids():\n",
    "    cen_cam1_x = entry_cen_x_cam1.get()\n",
    "    cen_cam1_y = entry_cen_y_cam1.get()\n",
    "    cen_cam2_x = entry_cen_x_cam2.get()\n",
    "    cen_cam2_y = entry_cen_y_cam2.get()\n",
    "    \n",
    "def get_cam_centroid(cam_server_adress): #select camera\n",
    "    client = socket.socket(socket.AF_INET, socket.SOCK_STREAM)\n",
    "    client.connect(cam_server_adress)\n",
    "    client.sendall(sizepack2 + subcriptionstring2)\n",
    "    \n",
    "    #initialise loop\n",
    "    centroid = np.zeros([N,2])\n",
    "    i = 0\n",
    "    \n",
    "    while i < N:\n",
    "        size = struct.unpack('>i', client.recv(4))[0]  # Extract the msg size from four bytes - mind the encoding\n",
    "        str_data = client.recv(size)\n",
    "\n",
    "        data = re.findall(r'\\d+', str_data.decode('ascii'))\n",
    "        #print(data)\n",
    "        centroid[i,0] = np.int(data[2])\n",
    "        centroid[i,1] = np.int(data[4])\n",
    "        #print('Data size: %s Data value: %s' % (size, str_data.decode('ascii')))\n",
    "        i = i+1\n",
    "    client.close()\n",
    "    \n",
    "    cenx = np.mean(centroid[:,0]) \n",
    "    ceny = np.mean(centroid[:,1]) \n",
    "    \n",
    "    return [cenx,ceny]\n",
    "    \n",
    "def initialise():\n",
    "\n",
    "    movehexapodtooutpos = b\"setypos>>20.000\"\n",
    "    udp_client = socket.socket(socket.AF_INET, socket.SOCK_DGRAM)\n",
    "    udp_client.sendto(movehexapodtooutpos, hexapod_address)\n",
    "    time.sleep(30)\n",
    "    \n",
    "    cenx1,ceny1 = get_cam_centroid(server_address_probecampost)\n",
    "    cenx2,ceny2 = get_cam_centroid(server_address_probecampostnear)         \n",
    "    \n",
    "    hexy.insert(0,cenx1)\n",
    "    print('done')\n",
    "    return [cenx1,ceny1,cenx2,ceny2]\n"
   ]
  },
  {
   "cell_type": "code",
   "execution_count": 15,
   "metadata": {},
   "outputs": [],
   "source": [
    "master = tk.Tk()\n",
    "\n",
    "#Close GUI Button\n",
    "button_close = tk.Button(master, text=\"Close\", command=master.destroy,bg='pink')\n",
    "button_close.place(x=400,y=100)\n",
    "\n",
    "Initialise = tk.Button(master, text=\"Initialise\",command=initialise, bg='blue')\n",
    "Initialise.place(x=400,y=30)\n",
    "\n",
    "PreAlign = tk.Button(master, text=\"Pre-Alignment\",bg='green')\n",
    "PreAlign.place(x=400,y=50)\n",
    "\n",
    "#Camera centroid input\n",
    "\n",
    "tk.Label(text='starting point', relief=tk.RIDGE, width=15).grid(row=0,column=1)\n",
    "tk.Label(text='range', relief=tk.RIDGE, width=15).grid(row=0,column=2)\n",
    "tk.Label(text='hex y', relief=tk.RIDGE, width=15).grid(row=1,column=0)\n",
    "tk.Label(text='hex z', relief=tk.RIDGE, width=15).grid(row=2,column=0)\n",
    "tk.Label(text='wangle', relief=tk.RIDGE, width=15).grid(row=3,column=0)\n",
    "tk.Label(text='vangle', relief=tk.RIDGE, width=15).grid(row=4,column=0)\n",
    "\n",
    "hexy = tk.Entry(master)\n",
    "hexy.insert(0,1)\n",
    "hexy.grid(row=1, column=1)\n",
    "\n",
    "hexz = tk.Entry(master).grid(row=2, column=1)\n",
    "wangle = tk.Entry(master).grid(row=3, column=1)\n",
    "vangle = tk.Entry(master).grid(row=4, column=1)\n",
    "hexy_r = tk.Entry(master).grid(row=1, column=2)\n",
    "hexz_r = tk.Entry(master).grid(row=2, column=2)\n",
    "wangle_r = tk.Entry(master).grid(row=3, column=2)\n",
    "vangle_r = tk.Entry(master).grid(row=4, column=2)\n",
    "\n",
    "tk.Label(text='N. Cam:', relief=tk.RIDGE, width=15).grid(row=5,column=0)\n",
    "Ncamimg = tk.Entry(master).grid(row=5, column=1)\n",
    "\n",
    "tk.Label(text='Capital:', relief=tk.RIDGE, width=15).grid(row=6,column=0)\n",
    "Capital = tk.Entry(master).grid(row=6, column=1)\n"
   ]
  },
  {
   "cell_type": "code",
   "execution_count": 16,
   "metadata": {},
   "outputs": [
    {
     "name": "stdout",
     "output_type": "stream",
     "text": [
      "done\n"
     ]
    }
   ],
   "source": [
    "#start GUI\n",
    "master.geometry(\"500x170\")\n",
    "tk.mainloop()"
   ]
  },
  {
   "cell_type": "code",
   "execution_count": null,
   "metadata": {},
   "outputs": [],
   "source": [
    "#import mainMLcode\n",
    "\n",
    "#%run mainMLcode.py"
   ]
  },
  {
   "cell_type": "code",
   "execution_count": null,
   "metadata": {},
   "outputs": [],
   "source": []
  },
  {
   "cell_type": "code",
   "execution_count": null,
   "metadata": {},
   "outputs": [],
   "source": []
  },
  {
   "cell_type": "code",
   "execution_count": null,
   "metadata": {},
   "outputs": [],
   "source": []
  },
  {
   "cell_type": "code",
   "execution_count": null,
   "metadata": {},
   "outputs": [],
   "source": []
  }
 ],
 "metadata": {
  "kernelspec": {
   "display_name": "Python 3",
   "language": "python",
   "name": "python3"
  },
  "language_info": {
   "codemirror_mode": {
    "name": "ipython",
    "version": 3
   },
   "file_extension": ".py",
   "mimetype": "text/x-python",
   "name": "python",
   "nbconvert_exporter": "python",
   "pygments_lexer": "ipython3",
   "version": "3.7.3"
  }
 },
 "nbformat": 4,
 "nbformat_minor": 4
}
