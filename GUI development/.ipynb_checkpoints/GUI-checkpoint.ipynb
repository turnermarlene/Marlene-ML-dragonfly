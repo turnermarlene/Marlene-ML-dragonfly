{
 "cells": [
  {
   "cell_type": "code",
   "execution_count": 3,
   "metadata": {},
   "outputs": [
    {
     "ename": "SyntaxError",
     "evalue": "import * only allowed at module level (mainMLcode.py, line 1)",
     "output_type": "error",
     "traceback": [
      "Traceback \u001b[1;36m(most recent call last)\u001b[0m:\n",
      "  File \u001b[0;32m\"C:\\Users\\loasis\\AppData\\Local\\Programs\\Python\\Python37-32\\lib\\site-packages\\IPython\\core\\interactiveshell.py\"\u001b[0m, line \u001b[0;32m3418\u001b[0m, in \u001b[0;35mrun_code\u001b[0m\n    exec(code_obj, self.user_global_ns, self.user_ns)\n",
      "\u001b[1;36m  File \u001b[1;32m\"<ipython-input-3-2f45d1c53d3f>\"\u001b[1;36m, line \u001b[1;32m4\u001b[1;36m, in \u001b[1;35m<module>\u001b[1;36m\u001b[0m\n\u001b[1;33m    from mainMLcode import *\u001b[0m\n",
      "\u001b[1;36m  File \u001b[1;32m\"C:\\Users\\loasis\\Documents\\Python Scripts\\Machine Learning\\Marlene-ML-dragonfly-capalignment\\GUI development\\mainMLcode.py\"\u001b[1;36m, line \u001b[1;32m1\u001b[0m\n\u001b[1;33m    def start_alignment():\u001b[0m\n\u001b[1;37m                          ^\u001b[0m\n\u001b[1;31mSyntaxError\u001b[0m\u001b[1;31m:\u001b[0m import * only allowed at module level\n"
     ]
    }
   ],
   "source": [
    "import tkinter as tk\n",
    "from tkinter.messagebox import showinfo\n",
    "\n",
    "from mainMLcode import start_alignment\n",
    "from functions_capalignment import *\n"
   ]
  },
  {
   "cell_type": "code",
   "execution_count": null,
   "metadata": {},
   "outputs": [],
   "source": [
    "def get_centroids():\n",
    "    cen_cam1_x = entry_cen_x_cam1.get()\n",
    "    cen_cam1_y = entry_cen_y_cam1.get()\n",
    "    cen_cam2_x = entry_cen_x_cam2.get()\n",
    "    cen_cam2_y = entry_cen_y_cam2.get()\n"
   ]
  },
  {
   "cell_type": "code",
   "execution_count": null,
   "metadata": {},
   "outputs": [],
   "source": [
    "master = tk.Tk()\n",
    "\n",
    "#Close GUI Button\n",
    "button_close = tk.Button(master, text=\"Close\", command=master.destroy,bg='pink')\n",
    "button_close.pack(fill='x')\n",
    "button_close.place(x=920,y=750)\n",
    "\n",
    "#Camera centroid input\n",
    "\n",
    "label_cen_x = tk.Label(master, text=\"Centroid x\")\n",
    "label_cen_x.pack()\n",
    "label_cen_x.place(x=70,y=20)\n",
    "\n",
    "label_cen_y = tk.Label(master, text=\"Centroid y\")\n",
    "label_cen_y.pack()\n",
    "label_cen_y.place(x=160,y=20)\n",
    "\n",
    "label_cam1 = tk.Label(master, text=\"Camera 1\")\n",
    "label_cam1.pack()\n",
    "label_cam1.place(x=10,y=50)\n",
    "\n",
    "label_cam2 = tk.Label(master, text=\"Camera 2\")\n",
    "label_cam2.pack()\n",
    "label_cam2.place(x=10,y=100)\n",
    "\n",
    "\n",
    "entry_cen_x_cam1 = tk.Entry(master)\n",
    "entry_cen_x_cam1.pack(fill='x') \n",
    "entry_cen_x_cam1.place(x=70,y=50, width = 50, height = 20)\n",
    "\n",
    "entry_cen_y_cam1 = tk.Entry(master)\n",
    "entry_cen_y_cam1.pack(fill='x') \n",
    "entry_cen_y_cam1.place(x=160,y=50, width = 50, height = 20)\n",
    "\n",
    "entry_cen_x_cam2 = tk.Entry(master)\n",
    "entry_cen_x_cam2.pack(fill='x') \n",
    "entry_cen_x_cam2.place(x=70,y=100, width = 50, height = 20)\n",
    "\n",
    "entry_cen_y_cam2 = tk.Entry(master)\n",
    "entry_cen_y_cam2.pack(fill='x') \n",
    "entry_cen_y_cam2.place(x=160,y=100, width = 50, height = 20)\n",
    "\n",
    "button_set_centroid = tk.Button(master, text=\"Set Centroid\",command=get_centroids)\n",
    "button_set_centroid.pack(fill='x')\n",
    "button_set_centroid.place(x=230,y=70)\n",
    "\n",
    "\n"
   ]
  },
  {
   "cell_type": "code",
   "execution_count": null,
   "metadata": {},
   "outputs": [],
   "source": [
    "#start GUI\n",
    "master.geometry(\"1000x800\")\n",
    "tk.mainloop()"
   ]
  },
  {
   "cell_type": "code",
   "execution_count": null,
   "metadata": {},
   "outputs": [],
   "source": []
  },
  {
   "cell_type": "code",
   "execution_count": null,
   "metadata": {},
   "outputs": [],
   "source": []
  },
  {
   "cell_type": "code",
   "execution_count": null,
   "metadata": {},
   "outputs": [],
   "source": []
  },
  {
   "cell_type": "code",
   "execution_count": null,
   "metadata": {},
   "outputs": [],
   "source": []
  },
  {
   "cell_type": "code",
   "execution_count": null,
   "metadata": {},
   "outputs": [],
   "source": []
  }
 ],
 "metadata": {
  "kernelspec": {
   "display_name": "Python 3",
   "language": "python",
   "name": "python3"
  },
  "language_info": {
   "codemirror_mode": {
    "name": "ipython",
    "version": 3
   },
   "file_extension": ".py",
   "mimetype": "text/x-python",
   "name": "python",
   "nbconvert_exporter": "python",
   "pygments_lexer": "ipython3",
   "version": "3.7.3"
  }
 },
 "nbformat": 4,
 "nbformat_minor": 4
}
