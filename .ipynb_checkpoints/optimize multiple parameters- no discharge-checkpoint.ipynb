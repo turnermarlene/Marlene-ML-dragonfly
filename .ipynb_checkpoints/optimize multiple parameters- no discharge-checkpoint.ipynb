{
 "cells": [
  {
   "cell_type": "code",
   "execution_count": 1,
   "metadata": {},
   "outputs": [
    {
     "name": "stderr",
     "output_type": "stream",
     "text": [
      "C:\\Users\\loasis\\AppData\\Local\\Programs\\Python\\Python37-32\\lib\\site-packages\\dragonfly\\utils\\oper_utils.py:30: UserWarning: cannot import name 'direct' from 'dragonfly.utils.direct_fortran' (C:\\Users\\loasis\\AppData\\Local\\Programs\\Python\\Python37-32\\lib\\site-packages\\dragonfly\\utils\\direct_fortran\\__init__.py)\n",
      "Could not import Fortran direct library. Dragonfly can still be used, but might be slightly slower. To get rid of this warning, install a numpy compatible Fortran compiler (e.g. gfortran) and the python-dev package and reinstall Dragonfly.\n",
      "  warn('%s\\n%s'%(e, fortran_err_msg))\n"
     ]
    }
   ],
   "source": [
    "from dragonfly import maximise_function, minimise_function\n",
    "import socket\n",
    "import struct\n",
    "import numpy as np\n",
    "import matplotlib.pyplot as plt\n",
    "import time\n",
    "import re\n",
    "\n",
    "N = 3 #number of cam images to average\n",
    "\n",
    "server_address_probecampost = ('192.168.15.24', 65280)\n",
    "server_address_probecampostnear = ('192.168.15.25', 65264)\n",
    "hexapod_address = ('192.168.15.16', 65529)\n",
    "\n",
    "subcriptionstring = b'Wait>>MeanCounts'\n",
    "SubcriptionCmdLength = len(subcriptionstring)\n",
    "sizepack = struct.pack('>i', SubcriptionCmdLength)\n",
    "\n",
    "subcriptionstring2 = b'Wait>>Centroidx,Centroidy'\n",
    "SubcriptionCmdLength2 = len(subcriptionstring2)\n",
    "sizepack2 = struct.pack('>i', SubcriptionCmdLength2)"
   ]
  },
  {
   "cell_type": "code",
   "execution_count": 2,
   "metadata": {},
   "outputs": [],
   "source": [
    "def update_hex_pos(hexy,hexz,wangle,vangle):\n",
    "    udp_client = socket.socket(socket.AF_INET, socket.SOCK_DGRAM)\n",
    "\n",
    "    hexy = np.round(hexy,4)\n",
    "    hexz = np.round(hexz,4)\n",
    "    wangle = np.round(wangle,4)\n",
    "    vangle = np.round(vangle,4)\n",
    "    \n",
    "    hexycommand =bytes(\"setypos>>\"+str(hexy),'ascii')\n",
    "    #print(hexycommand)\n",
    "    hexzcommand =bytes(\"setzpos>>\"+str(hexz),'ascii')\n",
    "    wanglecommand =bytes(\"setwangle>>\"+str(wangle),'ascii')\n",
    "    vanglecommand =bytes(\"setvangle>>\"+str(vangle),'ascii')\n",
    "    \n",
    "    udp_client.sendto(hexycommand, hexapod_address)\n",
    "    ypos_m = get_current_hex_pos('ypos')\n",
    "    while np.abs(ypos_m-hexy) > 0.01:\n",
    "        ypos_m = get_current_hex_pos('ypos')\n",
    "    time.sleep(1)\n",
    "\n",
    "    udp_client.sendto(hexzcommand, hexapod_address)\n",
    "    zpos_m = get_current_hex_pos('zpos')\n",
    "    while np.abs(zpos_m-hexz) > 0.1:\n",
    "        zpos_m = get_current_hex_pos('zpos')\n",
    "    time.sleep(1)\n",
    "    \n",
    "    udp_client.sendto(wanglecommand, hexapod_address)\n",
    "    wpos_m = get_current_hex_pos('wangle')\n",
    "    while np.abs(wpos_m-wangle) > 0.01:\n",
    "        wpos_m = get_current_hex_pos('wangle')\n",
    "    time.sleep(1) \n",
    "    \n",
    "    udp_client.sendto(vanglecommand, hexapod_address)\n",
    "    vpos_m = get_current_hex_pos('vangle')\n",
    "    while np.abs(vpos_m-vangle) > 0.01:\n",
    "        vpos_m = get_current_hex_pos('vangle')\n",
    "    #time.sleep(1)   \n",
    "    \n",
    "    return\n",
    "\n",
    "\n",
    "def get_cam_mean(cam_server_adress): #select camera\n",
    "    client = socket.socket(socket.AF_INET, socket.SOCK_STREAM)\n",
    "    client.connect(cam_server_adress)\n",
    "    client.sendall(sizepack + subcriptionstring)\n",
    "    \n",
    "    #initialise loop\n",
    "    counts = np.zeros(N)\n",
    "    i = 0\n",
    "    \n",
    "    while i < N:\n",
    "        size = struct.unpack('>i', client.recv(4))[0]  # Extract the msg size from four bytes - mind the encoding\n",
    "        str_data = client.recv(size)\n",
    "\n",
    "        data = re.findall(r'\\d+', str_data.decode('ascii'))\n",
    "        counts[i] = np.int(data[2])\n",
    "        #print('Data size: %s Data value: %s' % (size, str_data.decode('ascii')))\n",
    "        i = i+1\n",
    "    client.close()\n",
    "    \n",
    "    meancounts_campost = np.mean(counts) \n",
    "    \n",
    "    return meancounts_campost\n",
    "\n",
    "def get_cam_centroid(cam_server_adress): #select camera\n",
    "    client = socket.socket(socket.AF_INET, socket.SOCK_STREAM)\n",
    "    client.connect(cam_server_adress)\n",
    "    client.sendall(sizepack2 + subcriptionstring2)\n",
    "    \n",
    "    #initialise loop\n",
    "    centroid = np.zeros([N,2])\n",
    "    i = 0\n",
    "    \n",
    "    while i < N:\n",
    "        size = struct.unpack('>i', client.recv(4))[0]  # Extract the msg size from four bytes - mind the encoding\n",
    "        str_data = client.recv(size)\n",
    "\n",
    "        data = re.findall(r'\\d+', str_data.decode('ascii'))\n",
    "        #print(data)\n",
    "        centroid[i,0] = np.int(data[2])\n",
    "        centroid[i,1] = np.int(data[4])\n",
    "        #print('Data size: %s Data value: %s' % (size, str_data.decode('ascii')))\n",
    "        i = i+1\n",
    "    client.close()\n",
    "    \n",
    "    cenx = np.mean(centroid[:,0]) \n",
    "    ceny = np.mean(centroid[:,1]) \n",
    "    \n",
    "    return [cenx,ceny]\n",
    "\n",
    "def get_current_hex_pos(parameter):\n",
    "    client = socket.socket(socket.AF_INET, socket.SOCK_STREAM)\n",
    "    client.connect(hexapod_address)\n",
    "\n",
    "    subcriptionstring = bytes(\"Wait>>\"+parameter,'ascii')\n",
    "    #print(subcriptionstring)\n",
    "    SubcriptionCmdLength = len(subcriptionstring)\n",
    "    sizepack = struct.pack('>i', SubcriptionCmdLength)\n",
    "\n",
    "\n",
    "    client.sendall(sizepack + subcriptionstring)\n",
    "    size = struct.unpack('>i', client.recv(4))[0]  # Extract the msg size from four bytes - mind the encoding\n",
    "    str_data = client.recv(size)\n",
    "    #print('Data size: %s Data value: %s' % (size, str_data.decode('ascii')))\n",
    "    position = np.float(re.findall(r'[-+]?\\d+\\.\\d+', str_data.decode('ascii'))[0])\n",
    "    client.close()\n",
    "    \n",
    "    return position"
   ]
  },
  {
   "cell_type": "code",
   "execution_count": 3,
   "metadata": {},
   "outputs": [],
   "source": [
    "def opt_align(hexp):\n",
    "    hexy = hexp[0]\n",
    "    hexz = hexp[1]\n",
    "    wangle = hexp[2]\n",
    "    vangle = hexp[3]\n",
    "\n",
    "    \n",
    "    #update hexapod pos\n",
    "    update_hex_pos(hexy,hexz,wangle,vangle)\n",
    "    \n",
    "    #get cam property\n",
    "    meancounts_campost1 = get_cam_mean(server_address_probecampostnear)\n",
    "    meancounts_campost2 = get_cam_mean(server_address_probecampost)\n",
    "    \n",
    "    meancounts_campost = meancounts_campost1+meancounts_campost2\n",
    "    \n",
    "    if meancounts_campost>25:\n",
    "        cenx1,ceny1 = get_cam_centroid(server_address_probecampost)\n",
    "        cenx2,ceny2 = get_cam_centroid(server_address_probecampostnear)\n",
    "    \n",
    "        cen = np.sqrt((np.abs(cenx1-726)+np.abs(ceny1-602))**2)+np.sqrt((np.abs(cenx2-135)+np.abs(ceny2-97))**2)*6\n",
    "        \n",
    "    else:\n",
    "        cen=2000-meancounts_campost*2\n",
    "    \n",
    "    print(np.round(cen,0))\n",
    "    return cen\n"
   ]
  },
  {
   "cell_type": "code",
   "execution_count": 4,
   "metadata": {},
   "outputs": [
    {
     "name": "stdout",
     "output_type": "stream",
     "text": [
      "Optimisation with bo(ei-ucb-ttei-add_ucb) using capital 10.0 (return_value)\n",
      "166.0\n",
      "105.0\n",
      "265.0\n",
      "47.0\n",
      "712.0\n",
      "Capital spent on initialisation: 5.0000(0.5000).\n",
      "Legend: <iteration_number> (<num_successful_queries>, <fraction_of_capital_spent>):: curr_max=<current_maximum_value>, acqs=<num_times_each_acquisition_was_used>\n"
     ]
    },
    {
     "name": "stderr",
     "output_type": "stream",
     "text": [
      "C:\\Users\\loasis\\AppData\\Local\\Programs\\Python\\Python37-32\\lib\\site-packages\\dragonfly\\utils\\oper_utils.py:132: UserWarning: Attempted to use direct, but fortran library could not be imported. Using PDOO optimiser instead of direct.\n",
      "  warn(report_str)\n"
     ]
    },
    {
     "name": "stdout",
     "output_type": "stream",
     "text": [
      "122.0\n",
      "80.0\n",
      "99.0\n",
      "134.0\n",
      "106.0\n",
      "131.0\n",
      "#012 (011, 1.100):: curr_max=-47.33333, acqs=[ei:1, ucb:3, ttei:1, add_ucb:1], \n",
      "We are done here:\n",
      "47.33333333333337\n",
      "[-2.18133141  2.25442352 -0.58089669 -0.28708345]\n",
      "48.0\n"
     ]
    },
    {
     "data": {
      "text/plain": [
       "48.0"
      ]
     },
     "execution_count": 4,
     "metadata": {},
     "output_type": "execute_result"
    }
   ],
   "source": [
    "domain = [[-2.11-0.2,-2.11+0.2],[2.18-0.2,2.18+0.2],[-0.60-0.15,-0.60+0.15],[-0.25-0.15,-0.25+0.15]]\n",
    "max_capital = 10\n",
    "max_val, max_pt, history = minimise_function(opt_align, domain, max_capital,opt_method='bo')\n",
    "\n",
    "#finsish set to optimum values\n",
    "print('We are done here:')\n",
    "print(max_val)\n",
    "print(max_pt)\n",
    "opt_align(max_pt)"
   ]
  },
  {
   "cell_type": "code",
   "execution_count": null,
   "metadata": {},
   "outputs": [],
   "source": [
    "opt_align(max_pt)"
   ]
  },
  {
   "cell_type": "code",
   "execution_count": null,
   "metadata": {},
   "outputs": [],
   "source": []
  },
  {
   "cell_type": "code",
   "execution_count": null,
   "metadata": {},
   "outputs": [],
   "source": []
  },
  {
   "cell_type": "code",
   "execution_count": null,
   "metadata": {},
   "outputs": [],
   "source": []
  }
 ],
 "metadata": {
  "kernelspec": {
   "display_name": "Python 3",
   "language": "python",
   "name": "python3"
  },
  "language_info": {
   "codemirror_mode": {
    "name": "ipython",
    "version": 3
   },
   "file_extension": ".py",
   "mimetype": "text/x-python",
   "name": "python",
   "nbconvert_exporter": "python",
   "pygments_lexer": "ipython3",
   "version": "3.7.3"
  }
 },
 "nbformat": 4,
 "nbformat_minor": 4
}
